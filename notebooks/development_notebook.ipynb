{
 "cells": [
  {
   "cell_type": "markdown",
   "id": "263a65fd",
   "metadata": {},
   "source": [
    "# Part 1: 开发测试 - 数据获取 (Tushare & yfinance)\n",
    "\n",
    "这个Notebook用于测试我们项目的基础模块是否正常工作。\n",
    "\n",
    "**核心测试目标**:\n",
    "1. `config_manager`: 能否正确从 `.env` 文件加载 Tushare Token 和其他API密钥。\n",
    "2. `data_fetcher`: 能否根据股票代码自动选择 `yfinance` 或 `Tushare`，并成功获取数据。"
   ]
  },
  {
   "cell_type": "code",
   "execution_count": null,
   "id": "b3f3ca8b",
   "metadata": {},
   "outputs": [],
   "source": [
    "%load_ext autoreload\n",
    "%autoreload 2\n",
    "\n",
    "import sys\n",
    "import os\n",
    "import pandas as pd\n",
    "\n",
    "# 将上级目录（项目根目录）添加到系统路径\n",
    "# 这样我们就可以直接 'from src import ...'\n",
    "project_root = os.path.abspath(os.path.join(os.getcwd(), '..'))\n",
    "if project_root not in sys.path:\n",
    "    sys.path.append(project_root)\n",
    "    print(f\"项目根目录 '{project_root}' 已添加到系统路径。\")"
   ]
  },
  {
   "cell_type": "code",
   "execution_count": null,
   "id": "c2e792ed",
   "metadata": {},
   "outputs": [],
   "source": [
    "from src.config_manager import get_tushare_token, get_llm_api_key\n",
    "\n",
    "print(\"--- 测试配置管理器 ---\")\n",
    "\n",
    "# 测试Tushare Token\n",
    "tushare_token = get_tushare_token()\n",
    "if tushare_token and len(tushare_token) > 10:\n",
    "    print(\"✅ Tushare Token: 成功加载。\")\n",
    "else:\n",
    "    print(\"❌ Tushare Token: 未加载或格式不正确。请检查 .env 文件中的 TUSHARE_TOKEN。\")\n",
    "\n",
    "# 测试一个LLM API Key (以Gemini为例)\n",
    "gemini_key = get_llm_api_key('gemini')\n",
    "if gemini_key:\n",
    "     print(\"✅ Gemini API Key: 成功加载。\")\n",
    "else:\n",
    "     print(\"⚠️ Gemini API Key: 未在 .env 文件中配置 (这是可选的，在此阶段不影响数据获取)。\")"
   ]
  },
  {
   "cell_type": "code",
   "execution_count": null,
   "id": "7bd48225",
   "metadata": {},
   "outputs": [],
   "source": [
    "from src.data_fetcher import fetch_stock_data"
   ]
  },
  {
   "cell_type": "markdown",
   "id": "afa9e505",
   "metadata": {},
   "source": [
    "### 测试 1: 获取美股数据 (使用 yfinance)\n",
    "\n",
    "我们将尝试获取苹果公司 (AAPL) 的数据。这应该会触发 `data_fetcher` 中的 `yfinance` 逻辑。"
   ]
  },
  {
   "cell_type": "code",
   "execution_count": null,
   "id": "171ead9b",
   "metadata": {},
   "outputs": [],
   "source": [
    "aapl_df = fetch_stock_data(ticker='AAPL', period='1y')\n",
    "\n",
    "if aapl_df is not None and not aapl_df.empty:\n",
    "    print(\"\\n✅ 成功获取苹果公司(AAPL)数据！\")\n",
    "    print(\"数据维度:\", aapl_df.shape)\n",
    "    print(\"\\n数据预览 (前5行):\")\n",
    "    display(aapl_df.head())\n",
    "    print(\"\\n数据预览 (后5行):\")\n",
    "    display(aapl_df.tail())\n",
    "else:\n",
    "    print(\"\\n❌ 获取AAPL数据失败。\")"
   ]
  },
  {
   "cell_type": "markdown",
   "id": "e2d14040",
   "metadata": {},
   "source": [
    "### 测试 2: 获取中国A股数据 (使用 Tushare)\n",
    "\n",
    "我们将尝试获取贵州茅台 (600519) 的数据。这应该会触发 `data_fetcher` 中的 `Tushare` 逻辑。\n",
    "**注意**: 此单元格的成功运行依赖于你在 `.env` 文件中正确配置了 `TUSHARE_TOKEN`。"
   ]
  },
  {
   "cell_type": "code",
   "execution_count": null,
   "id": "76504879",
   "metadata": {},
   "outputs": [],
   "source": [
    "# 使用A股代码（6位数字）\n",
    "moutai_df = fetch_stock_data(ticker='600519', period='1y')\n",
    "\n",
    "if moutai_df is not None and not moutai_df.empty:\n",
    "    print(\"\\n✅ 成功获取贵州茅台(600519)数据！\")\n",
    "    print(\"数据维度:\", moutai_df.shape)\n",
    "    print(\"\\n数据预览 (前5行):\")\n",
    "    display(moutai_df.head())\n",
    "    print(\"\\n数据预览 (后5行):\")\n",
    "    display(moutai_df.tail())\n",
    "else:\n",
    "    print(\"\\n❌ 获取600519数据失败。请检查Tushare Token是否配置正确以及网络连接。\")"
   ]
  },
  {
   "cell_type": "code",
   "execution_count": null,
   "id": "a62ffc66",
   "metadata": {},
   "outputs": [],
   "source": [
    "# 测试深圳市场的股票\n",
    "pingan_df = fetch_stock_data(ticker='000001.SZ', period='6mo')\n",
    "\n",
    "if pingan_df is not None and not pingan_df.empty:\n",
    "    print(\"\\n✅ 成功获取平安银行(000001.SZ)数据！\")\n",
    "    print(\"数据维度:\", pingan_df.shape)\n",
    "    print(\"\\n数据预览 (后5行):\")\n",
    "    display(pingan_df.tail())\n",
    "else:\n",
    "    print(\"\\n❌ 获取000001.SZ数据失败。\")"
   ]
  },
  {
   "cell_type": "markdown",
   "id": "5f5c3450",
   "metadata": {},
   "source": [
    "### 测试 3: 错误处理\n",
    "\n",
    "我们将尝试获取一个不存在的股票代码，以验证我们的函数能否优雅地处理错误并返回 `None`。"
   ]
  },
  {
   "cell_type": "code",
   "execution_count": null,
   "id": "d99cca1b",
   "metadata": {},
   "outputs": [],
   "source": [
    "invalid_df = fetch_stock_data(ticker='THIS_IS_A_FAKE_TICKER_XYZ')\n",
    "\n",
    "if invalid_df is None:\n",
    "    print(\"\\n✅ 成功处理了无效代码，函数按预期返回了 None。\")\n",
    "else:\n",
    "    print(\"\\n❌ 错误处理测试失败，函数没有返回 None。\")"
   ]
  }
 ],
 "metadata": {
  "kernelspec": {
   "display_name": "base",
   "language": "python",
   "name": "python3"
  },
  "language_info": {
   "name": "python",
   "version": "3.12.7"
  }
 },
 "nbformat": 4,
 "nbformat_minor": 5
}
